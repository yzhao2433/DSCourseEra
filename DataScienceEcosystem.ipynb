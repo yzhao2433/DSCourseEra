{
 "cells": [
  {
   "cell_type": "markdown",
   "id": "15a0e694",
   "metadata": {},
   "source": [
    "# Data Science Tools and Ecosystem\n",
    "\n",
    "In this notebook, Data Science Tools and Ecosystem are summarized."
   ]
  },
  {
   "cell_type": "markdown",
   "id": "2729d229",
   "metadata": {},
   "source": [
    "Some of the popular languages that Data Scientists use are:\n",
    "1. Python\n",
    "2. SQL \n",
    "3. R"
   ]
  },
  {
   "cell_type": "markdown",
   "id": "d09f43ac",
   "metadata": {},
   "source": [
    "Some of the commonly used libraries used by Data Scientists include:\n",
    "1. NumPy\n",
    "2. Pandas\n",
    "3. Matplotlib"
   ]
  },
  {
   "cell_type": "markdown",
   "id": "c7745d64",
   "metadata": {},
   "source": [
    "|Data Science Tools|\n",
    "|---|\n",
    "Apache Spark\n",
    "R Studio\n",
    "Jupyter"
   ]
  },
  {
   "cell_type": "markdown",
   "id": "2ec76ef9",
   "metadata": {},
   "source": [
    "### Below are a few examples of evaluating arithmetic expressions in Python"
   ]
  },
  {
   "cell_type": "code",
   "execution_count": 1,
   "id": "37c216b5",
   "metadata": {},
   "outputs": [
    {
     "data": {
      "text/plain": [
       "17"
      ]
     },
     "execution_count": 1,
     "metadata": {},
     "output_type": "execute_result"
    }
   ],
   "source": [
    "# This a simple arithmetic expression to mutiply then add integers\n",
    "(3*4)+5"
   ]
  },
  {
   "cell_type": "code",
   "execution_count": 8,
   "id": "0a739800",
   "metadata": {},
   "outputs": [
    {
     "name": "stdout",
     "output_type": "stream",
     "text": [
      "200 minutes is approximately 3.33 hours\n"
     ]
    }
   ],
   "source": [
    "# This will convert 200 minutes to hours by diving by 60\n",
    "import numpy as np\n",
    "result = 200 / 60\n",
    "print (\"200 minutes is approximately\", np.round(result,2) , \"hours\")"
   ]
  },
  {
   "cell_type": "markdown",
   "id": "69d66f49",
   "metadata": {},
   "source": [
    "**Objectives:**\n",
    "- List of popular languages for Data Science\n",
    "- List of tools for Data Science\n",
    "- Printing and executing code on Jupyter"
   ]
  },
  {
   "cell_type": "markdown",
   "id": "b4403698",
   "metadata": {},
   "source": [
    "## Author\n",
    "Name: Ying Lin Zhao"
   ]
  },
  {
   "cell_type": "code",
   "execution_count": null,
   "id": "39c0288e",
   "metadata": {},
   "outputs": [],
   "source": []
  }
 ],
 "metadata": {
  "kernelspec": {
   "display_name": "Python 3 (ipykernel)",
   "language": "python",
   "name": "python3"
  },
  "language_info": {
   "codemirror_mode": {
    "name": "ipython",
    "version": 3
   },
   "file_extension": ".py",
   "mimetype": "text/x-python",
   "name": "python",
   "nbconvert_exporter": "python",
   "pygments_lexer": "ipython3",
   "version": "3.11.4"
  }
 },
 "nbformat": 4,
 "nbformat_minor": 5
}
